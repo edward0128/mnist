{
 "cells": [
  {
   "cell_type": "markdown",
   "metadata": {},
   "source": [
    "## CNN 卷積神經網路"
   ]
  },
  {
   "cell_type": "markdown",
   "metadata": {},
   "source": [
    "* 影像的特徵提取: 透過 Convolution 與 Max Pooling 提取影像特徵.\n",
    "* Fully connected Feedforward network: Flatten layers, hidden layers and output layers\n",
    "\n",
    "http://puremonkey2010.blogspot.com/2017/07/toolkit-keras-mnist-cnn.html"
   ]
  },
  {
   "cell_type": "markdown",
   "metadata": {},
   "source": [
    "## STEP1. 資料讀取與轉換 "
   ]
  },
  {
   "cell_type": "code",
   "execution_count": 11,
   "metadata": {},
   "outputs": [],
   "source": [
    "from keras.datasets import mnist  \n",
    "from keras.utils import np_utils  \n",
    "import numpy as np  \n",
    "np.random.seed(10)  \n",
    "(X_Train, y_Train), (X_Test, y_Test) = mnist.load_data()  \n",
    "  \n",
    "# Translation of data  \n",
    "X_Train4D = X_Train.reshape(X_Train.shape[0], 28, 28, 1).astype('float32')  \n",
    "X_Test4D = X_Test.reshape(X_Test.shape[0], 28, 28, 1).astype('float32') "
   ]
  },
  {
   "cell_type": "markdown",
   "metadata": {},
   "source": [
    "## STEP2. 將 Features 進行標準化與 Label 的 Onehot encoding "
   ]
  },
  {
   "cell_type": "code",
   "execution_count": 12,
   "metadata": {},
   "outputs": [],
   "source": [
    "# Standardize feature data  \n",
    "X_Train4D_norm = X_Train4D / 255  \n",
    "X_Test4D_norm = X_Test4D /255  \n",
    "  \n",
    "# Label Onehot-encoding  \n",
    "y_TrainOneHot = np_utils.to_categorical(y_Train)  \n",
    "y_TestOneHot = np_utils.to_categorical(y_Test) "
   ]
  },
  {
   "cell_type": "markdown",
   "metadata": {},
   "source": [
    "## STEP3. 建立卷積層與池化層"
   ]
  },
  {
   "cell_type": "code",
   "execution_count": 13,
   "metadata": {},
   "outputs": [],
   "source": [
    "from keras.models import Sequential  \n",
    "from keras.layers import Dense,Dropout,Flatten,Conv2D,MaxPooling2D  \n",
    "  \n",
    "model = Sequential()  \n",
    "# Create CN layer 1  \n",
    "model.add(Conv2D(filters=16,kernel_size=(5,5),padding='same',input_shape=(28,28,1),activation='relu'))  \n",
    "# Create Max-Pool 1  \n",
    "model.add(MaxPooling2D(pool_size=(2,2)))  \n",
    "  \n",
    "# Create CN layer 2  \n",
    "model.add(Conv2D(filters=36,kernel_size=(5,5),padding='same',activation='relu'))  \n",
    "  \n",
    "# Create Max-Pool 2  \n",
    "model.add(MaxPooling2D(pool_size=(2,2)))\n"
   ]
  },
  {
   "cell_type": "markdown",
   "metadata": {},
   "source": [
    "## STEP4. 建立神經網路 "
   ]
  },
  {
   "cell_type": "code",
   "execution_count": 14,
   "metadata": {},
   "outputs": [
    {
     "name": "stdout",
     "output_type": "stream",
     "text": [
      "_________________________________________________________________\n",
      "Layer (type)                 Output Shape              Param #   \n",
      "=================================================================\n",
      "conv2d_3 (Conv2D)            (None, 28, 28, 16)        416       \n",
      "_________________________________________________________________\n",
      "max_pooling2d_3 (MaxPooling2 (None, 14, 14, 16)        0         \n",
      "_________________________________________________________________\n",
      "conv2d_4 (Conv2D)            (None, 14, 14, 36)        14436     \n",
      "_________________________________________________________________\n",
      "max_pooling2d_4 (MaxPooling2 (None, 7, 7, 36)          0         \n",
      "_________________________________________________________________\n",
      "dropout_3 (Dropout)          (None, 7, 7, 36)          0         \n",
      "_________________________________________________________________\n",
      "flatten_2 (Flatten)          (None, 1764)              0         \n",
      "_________________________________________________________________\n",
      "dense_3 (Dense)              (None, 128)               225920    \n",
      "_________________________________________________________________\n",
      "dropout_4 (Dropout)          (None, 128)               0         \n",
      "_________________________________________________________________\n",
      "dense_4 (Dense)              (None, 10)                1290      \n",
      "=================================================================\n",
      "Total params: 242,062\n",
      "Trainable params: 242,062\n",
      "Non-trainable params: 0\n",
      "_________________________________________________________________\n",
      "\n"
     ]
    }
   ],
   "source": [
    "# Add Dropout layer  \n",
    "model.add(Dropout(0.25))  \n",
    "model.add(Flatten())  \n",
    "model.add(Dense(128, activation='relu'))  \n",
    "model.add(Dropout(0.5)) \n",
    "model.add(Dense(10, activation='softmax'))  \n",
    "model.summary()  \n",
    "print(\"\")\n",
    "model.compile(loss='categorical_crossentropy', optimizer='adam', metrics=['accuracy'])"
   ]
  },
  {
   "cell_type": "markdown",
   "metadata": {},
   "source": [
    "## STEP5. 定義訓練並進行訓練 "
   ]
  },
  {
   "cell_type": "code",
   "execution_count": 16,
   "metadata": {
    "scrolled": true
   },
   "outputs": [
    {
     "name": "stdout",
     "output_type": "stream",
     "text": [
      "\n",
      "Epoch 00001: val_acc improved from -inf to 0.99330, saving model to /home/mnist/vis1/weights-improvement-01-0.99.hdf5\n",
      "\n",
      "Epoch 00002: val_acc did not improve from 0.99330\n",
      "\n",
      "Epoch 00003: val_acc did not improve from 0.99330\n",
      "\n",
      "Epoch 00004: val_acc improved from 0.99330 to 0.99350, saving model to /home/mnist/vis1/weights-improvement-04-0.99.hdf5\n",
      "\n",
      "Epoch 00005: val_acc did not improve from 0.99350\n",
      "\n",
      "Epoch 00006: val_acc did not improve from 0.99350\n",
      "\n",
      "Epoch 00007: val_acc did not improve from 0.99350\n",
      "\n",
      "Epoch 00008: val_acc improved from 0.99350 to 0.99370, saving model to /home/mnist/vis1/weights-improvement-08-0.99.hdf5\n",
      "\n",
      "Epoch 00009: val_acc did not improve from 0.99370\n",
      "\n",
      "Epoch 00010: val_acc improved from 0.99370 to 0.99430, saving model to /home/mnist/vis1/weights-improvement-10-0.99.hdf5\n",
      "\n",
      "Epoch 00011: val_acc did not improve from 0.99430\n",
      "\n",
      "Epoch 00012: val_acc did not improve from 0.99430\n",
      "\n",
      "Epoch 00013: val_acc did not improve from 0.99430\n",
      "\n",
      "Epoch 00014: val_acc did not improve from 0.99430\n",
      "\n",
      "Epoch 00015: val_acc did not improve from 0.99430\n"
     ]
    }
   ],
   "source": [
    "from keras import optimizers\n",
    "from keras.callbacks import ModelCheckpoint \n",
    "import os\n",
    "from datetime import datetime\n",
    "from tensorflow import keras\n",
    "\n",
    "# 定義訓練方式 \n",
    "path='/home/mnist/vis1'\n",
    "if not os.path.isdir(path):\n",
    " os.mkdir(path)\n",
    "model.compile(loss='categorical_crossentropy', optimizer='adam', metrics=['accuracy'])\n",
    "logdir = path\n",
    "logdir = logdir + \"/logs/scalars/\" \n",
    "logdir = logdir + datetime.now().strftime(\"%Y%m%d-%H%M%S\")\n",
    "\n",
    "#tensorboard_callback = keras.callbacks.TensorBoard(log_dir=logdir)\n",
    "filepath=path\n",
    "\n",
    "filepath = filepath+\"/weights-improvement-{epoch:02d}-{val_acc:.2f}.hdf5\"\n",
    "#checkpoint = ModelCheckpoint(filepath, monitor='val_acc', verbose=1, save_best_only=True,\n",
    "#mode='max')\n",
    "#callbacks_list = [checkpoint]\n",
    "callbacks_list =[ModelCheckpoint(filepath, monitor='val_acc', verbose=1, save_best_only=True,mode='max'),keras.callbacks.TensorBoard(log_dir=logdir,write_graph=False)]\n",
    "                                  \n",
    "                 \n",
    "\n",
    "\n",
    "#train_history = model.fit(x=X_Train4D_norm,y=y_TrainOneHot, validation_split=0.2,epochs=10, batch_size=300, callbacks=callbacks_list,verbose=1) \n",
    "train_history = model.fit(x=X_Train4D_norm,y=y_TrainOneHot,epochs=15, batch_size=300,verbose=0,validation_data=(X_Test4D_norm, y_TestOneHot),callbacks=callbacks_list) \n",
    "# 開始訓練  \n",
    "  \n",
    "model.save( path+'/model.h5')"
   ]
  },
  {
   "cell_type": "markdown",
   "metadata": {},
   "source": [
    "## STEP6. 畫出 accuracy 執行結果 "
   ]
  },
  {
   "cell_type": "code",
   "execution_count": 7,
   "metadata": {},
   "outputs": [
    {
     "data": {
      "image/png": "[encoded data removed]",
      "text/plain": [
       "<Figure size 432x288 with 1 Axes>"
      ]
     },
     "metadata": {
      "needs_background": "light"
     },
     "output_type": "display_data"
    },
    {
     "data": {
      "image/png": "[encoded data removed]",
      "text/plain": [
       "<Figure size 432x288 with 1 Axes>"
      ]
     },
     "metadata": {
      "needs_background": "light"
     },
     "output_type": "display_data"
    },
    {
     "name": "stdout",
     "output_type": "stream",
     "text": [
      "10000/10000 [==============================] - 1s 80us/step\n",
      "\n",
      "\t[Info] Accuracy of testing data = 99.3%\n",
      "\t[Info] Making prediction of X_Test4D_norm\n",
      "\n",
      "\t[Info] Show 10 prediction result (From 240):\n",
      "[4 1 9 5 7 7 2 8 2 0]\n",
      "\n",
      "\t[Info] Display Confusion Matrix:\n",
      "predict    0     1     2     3    4    5    6     7    8     9\n",
      "label                                                         \n",
      "0        977     0     0     0    0    0    1     0    1     1\n",
      "1          0  1131     1     1    0    0    0     1    1     0\n",
      "2          1     1  1028     0    0    0    0     2    0     0\n",
      "3          0     0     0  1009    0    1    0     0    0     0\n",
      "4          0     0     0     0  974    0    0     0    2     6\n",
      "5          0     0     0     7    0  884    1     0    0     0\n",
      "6          3     3     0     0    1    3  948     0    0     0\n",
      "7          0     2     7     1    0    0    0  1012    1     5\n",
      "8          1     0     1     2    0    1    1     1  964     3\n",
      "9          0     0     0     1    2    3    0     1    2  1000\n",
      "\n"
     ]
    },
    {
     "data": {
      "image/png": "[encoded data removed]",
      "text/plain": [
       "<Figure size 864x1008 with 10 Axes>"
      ]
     },
     "metadata": {},
     "output_type": "display_data"
    }
   ],
   "source": [
    "import matplotlib.pyplot as plt  \n",
    "import tensorflow as tf\n",
    "\n",
    "def show_train_history(train_history, train, validation):  \n",
    "    plt.plot(train_history.history[train])  \n",
    "    plt.plot(train_history.history[validation])  \n",
    "    plt.title('Train History')  \n",
    "    plt.ylabel(train)  \n",
    "    plt.xlabel('Epoch')  \n",
    "    plt.legend(['train', 'validation'], loc='upper left')  \n",
    "    plt.show() \n",
    "    \n",
    "def plot_images_labels_predict(images, labels, prediction, idx, num=10):  \n",
    "    fig = plt.gcf()  \n",
    "    fig.set_size_inches(12, 14)  \n",
    "    if num > 25: num = 25  \n",
    "    for i in range(0, num):  \n",
    "        ax=plt.subplot(5,5, 1+i)  \n",
    "        ax.imshow(images[idx], cmap='binary')  \n",
    "        title = \"l=\" + str(labels[idx])  \n",
    "        if len(prediction) > 0:  \n",
    "            title = \"l={},p={}\".format(str(labels[idx]), str(prediction[idx]))  \n",
    "        else:  \n",
    "            title = \"l={}\".format(str(labels[idx]))  \n",
    "        ax.set_title(title, fontsize=10)  \n",
    "        ax.set_xticks([]); ax.set_yticks([])  \n",
    "        idx+=1  \n",
    "plt.show()  \n",
    "\n",
    "show_train_history(train_history, 'acc', 'val_acc')  \n",
    "show_train_history(train_history, 'loss', 'val_loss') \n",
    "\n",
    "scores = model.evaluate(X_Test4D_norm, y_TestOneHot)  \n",
    "print()  \n",
    "print(\"\\t[Info] Accuracy of testing data = {:2.1f}%\".format(scores[1]*100.0))   \n",
    "\n",
    "print(\"\\t[Info] Making prediction of X_Test4D_norm\")  \n",
    "prediction = model.predict_classes(X_Test4D_norm)  # Making prediction and save result to prediction  \n",
    "print()  \n",
    "print(\"\\t[Info] Show 10 prediction result (From 240):\")  \n",
    "print(\"%s\\n\" % (prediction[250:260]))\n",
    "plot_images_labels_predict(X_Test, y_Test, prediction, idx=250)  \n",
    "import pandas as pd\n",
    "print(\"\\t[Info] Display Confusion Matrix:\")\n",
    "print(\"%s\\n\" % pd.crosstab(y_Test, prediction, rownames=['label'], colnames=['predict']))"
   ]
  },
  {
   "cell_type": "markdown",
   "metadata": {},
   "source": [
    "## STEP7. 匯出模型"
   ]
  },
  {
   "cell_type": "code",
   "execution_count": 8,
   "metadata": {},
   "outputs": [],
   "source": [
    "model.save_weights('/tmp/CNN_Mnist.h5')"
   ]
  },
  {
   "cell_type": "markdown",
   "metadata": {},
   "source": [
    "## STEP8. 讀取模型"
   ]
  },
  {
   "cell_type": "code",
   "execution_count": 9,
   "metadata": {},
   "outputs": [],
   "source": [
    "from keras.models import Sequential  \n",
    "from keras.layers import Dense,Dropout,Flatten,Conv2D,MaxPooling2D \n",
    "\n",
    "model.load_weights('/tmp/CNN_Mnist.h5')"
   ]
  },
  {
   "cell_type": "markdown",
   "metadata": {},
   "source": [
    "## STEP9. 測試模型"
   ]
  },
  {
   "cell_type": "code",
   "execution_count": 10,
   "metadata": {},
   "outputs": [
    {
     "name": "stdout",
     "output_type": "stream",
     "text": [
      "10000/10000 [==============================] - 1s 75us/step\n",
      "\n",
      "\t[Info] Accuracy of testing data = 99.3%\n",
      "\t[Info] Making prediction of X_Test4D_norm\n",
      "\n",
      "\t[Info] Show 10 prediction result (From 240):\n",
      "[4 1 9 5 7 7 2 8 2 0]\n",
      "\n",
      "\t[Info] Display Confusion Matrix:\n",
      "predict    0     1     2     3    4    5    6     7    8     9\n",
      "label                                                         \n",
      "0        977     0     0     0    0    0    1     0    1     1\n",
      "1          0  1131     1     1    0    0    0     1    1     0\n",
      "2          1     1  1028     0    0    0    0     2    0     0\n",
      "3          0     0     0  1009    0    1    0     0    0     0\n",
      "4          0     0     0     0  974    0    0     0    2     6\n",
      "5          0     0     0     7    0  884    1     0    0     0\n",
      "6          3     3     0     0    1    3  948     0    0     0\n",
      "7          0     2     7     1    0    0    0  1012    1     5\n",
      "8          1     0     1     2    0    1    1     1  964     3\n",
      "9          0     0     0     1    2    3    0     1    2  1000\n",
      "\n"
     ]
    },
    {
     "data": {
      "image/png": "[encoded data removed]",
      "text/plain": [
       "<Figure size 864x1008 with 10 Axes>"
      ]
     },
     "metadata": {},
     "output_type": "display_data"
    }
   ],
   "source": [
    "import matplotlib.pyplot as plt  \n",
    "import tensorflow as tf\n",
    "\n",
    "def show_train_history(train_history, train, validation):  \n",
    "    plt.plot(train_history.history[train])  \n",
    "    plt.plot(train_history.history[validation])  \n",
    "    plt.title('Train History')  \n",
    "    plt.ylabel(train)  \n",
    "    plt.xlabel('Epoch')  \n",
    "    plt.legend(['train', 'validation'], loc='upper left')  \n",
    "    plt.show() \n",
    "    \n",
    "def plot_images_labels_predict(images, labels, prediction, idx, num=10):  \n",
    "    fig = plt.gcf()  \n",
    "    fig.set_size_inches(12, 14)  \n",
    "    if num > 25: num = 25  \n",
    "    for i in range(0, num):  \n",
    "        ax=plt.subplot(5,5, 1+i)  \n",
    "        ax.imshow(images[idx], cmap='binary')  \n",
    "        title = \"l=\" + str(labels[idx])  \n",
    "        if len(prediction) > 0:  \n",
    "            title = \"l={},p={}\".format(str(labels[idx]), str(prediction[idx]))  \n",
    "        else:  \n",
    "            title = \"l={}\".format(str(labels[idx]))  \n",
    "        ax.set_title(title, fontsize=10)  \n",
    "        ax.set_xticks([]); ax.set_yticks([])  \n",
    "        idx+=1  \n",
    "plt.show()  \n",
    "\n",
    "scores = model.evaluate(X_Test4D_norm, y_TestOneHot)  \n",
    "print()  \n",
    "print(\"\\t[Info] Accuracy of testing data = {:2.1f}%\".format(scores[1]*100.0))   \n",
    "\n",
    "print(\"\\t[Info] Making prediction of X_Test4D_norm\")  \n",
    "prediction = model.predict_classes(X_Test4D_norm)  # Making prediction and save result to prediction  \n",
    "print()  \n",
    "print(\"\\t[Info] Show 10 prediction result (From 240):\")  \n",
    "print(\"%s\\n\" % (prediction[250:260]))\n",
    "plot_images_labels_predict(X_Test, y_Test, prediction, idx=250)  \n",
    "import pandas as pd\n",
    "print(\"\\t[Info] Display Confusion Matrix:\")\n",
    "print(\"%s\\n\" % pd.crosstab(y_Test, prediction, rownames=['label'], colnames=['predict']))"
   ]
  },
  {
   "cell_type": "code",
   "execution_count": null,
   "metadata": {},
   "outputs": [],
   "source": []
  },
  {
   "cell_type": "code",
   "execution_count": null,
   "metadata": {},
   "outputs": [],
   "source": []
  }
 ],
 "metadata": {
  "kernelspec": {
   "display_name": "Python 3",
   "language": "python",
   "name": "python3"
  },
  "language_info": {
   "codemirror_mode": {
    "name": "ipython",
    "version": 3
   },
   "file_extension": ".py",
   "mimetype": "text/x-python",
   "name": "python",
   "nbconvert_exporter": "python",
   "pygments_lexer": "ipython3",
   "version": "3.6.8"
  }
 },
 "nbformat": 4,
 "nbformat_minor": 2
}
